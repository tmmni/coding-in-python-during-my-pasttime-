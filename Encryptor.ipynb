{
 "cells": [
  {
   "cell_type": "code",
   "execution_count": 147,
   "id": "65e98ac2",
   "metadata": {},
   "outputs": [],
   "source": [
    "import sys,random,string"
   ]
  },
  {
   "cell_type": "code",
   "execution_count": 191,
   "id": "e9217049",
   "metadata": {},
   "outputs": [
    {
     "name": "stdout",
     "output_type": "stream",
     "text": [
      " Enter a number! \n",
      " Make sure to remember it for later use! 100\n"
     ]
    }
   ],
   "source": [
    "prime=[]\n",
    "for num in range(2, 100 + 1):\n",
    "    for i in range(2, num):\n",
    "        if (num % i) == 0:\n",
    "            break\n",
    "    else:\n",
    "        prime.append(num)\n",
    "random.seed(int(input(' Enter a number! \\n Make sure to remember it for later use! ')))\n",
    "x = random.choice(prime)\n",
    "v = '#'+''.join(random.sample(string.hexdigits,4))+'#'\n",
    "def encrypt(X):  \n",
    "    return v.join([hex(ord(i)*x) for i in list(X)])\n",
    "def decrypt(Y):\n",
    "    return ''.join([chr(i) for i in [int(int(i,16)/x) for i in Y.split(sep=v)]])"
   ]
  },
  {
   "cell_type": "markdown",
   "id": "e99dead5",
   "metadata": {},
   "source": [
    "-----"
   ]
  },
  {
   "cell_type": "markdown",
   "id": "58efcc22",
   "metadata": {},
   "source": [
    "**Sample**"
   ]
  },
  {
   "cell_type": "code",
   "execution_count": 192,
   "id": "1f2ff295",
   "metadata": {},
   "outputs": [
    {
     "name": "stdout",
     "output_type": "stream",
     "text": [
      "Size of the encrypted text is 98 bytes \n",
      "\n",
      "Encrypted output is :\n",
      " \n",
      " 0x318#e5cb#0x457#e5cb#0x533#e5cb#0x4c5#e5cb#0x16b\n"
     ]
    }
   ],
   "source": [
    "e = encrypt('Heyo!')\n",
    "print('Size of the encrypted text is',sys.getsizeof(e),'bytes \\n')\n",
    "print('Encrypted output is :\\n \\n',e)"
   ]
  },
  {
   "cell_type": "code",
   "execution_count": 193,
   "id": "9abe3638",
   "metadata": {},
   "outputs": [
    {
     "name": "stdout",
     "output_type": "stream",
     "text": [
      "Size of the original text is 54 bytes \n",
      "\n",
      "Original text was :\n",
      " \n",
      " Heyo!\n"
     ]
    }
   ],
   "source": [
    "d = decrypt(e)\n",
    "print('Size of the original text is',sys.getsizeof(d),'bytes \\n')\n",
    "print('Original text was :\\n \\n',d)"
   ]
  }
 ],
 "metadata": {
  "kernelspec": {
   "display_name": "Python 3 (ipykernel)",
   "language": "python",
   "name": "python3"
  },
  "language_info": {
   "codemirror_mode": {
    "name": "ipython",
    "version": 3
   },
   "file_extension": ".py",
   "mimetype": "text/x-python",
   "name": "python",
   "nbconvert_exporter": "python",
   "pygments_lexer": "ipython3",
   "version": "3.9.12"
  }
 },
 "nbformat": 4,
 "nbformat_minor": 5
}
